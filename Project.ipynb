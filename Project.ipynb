{
 "cells": [
  {
   "cell_type": "markdown",
   "id": "38be9d37-d3ca-42d8-baba-0dbf0164e6a7",
   "metadata": {},
   "source": [
    "# Dynamic Price Tracker: Humidifier"
   ]
  },
  {
   "cell_type": "code",
   "execution_count": 1,
   "id": "33e55dc8-cc8b-40d4-a8c2-bfbee7eb2027",
   "metadata": {},
   "outputs": [],
   "source": [
    "# Libraries\n",
    "from bs4 import BeautifulSoup\n",
    "import pandas as pd\n",
    "import time\n",
    "import datetime\n",
    "import requests\n",
    "import smtplib\n",
    "import re\n",
    "import csv"
   ]
  },
  {
   "cell_type": "code",
   "execution_count": 2,
   "id": "7bd499a0-f9d6-4a07-b094-44df6269c0b3",
   "metadata": {},
   "outputs": [],
   "source": [
    "# Connecting to the website\n",
    "url = \"https://www.amazon.ca/Humidifiers-CHIVALZ-Humidifier-Nightlight-Diffuser/dp/B0CYT6GBZ4/ref=sr_1_5?crid=8KR4AB5GWY6M&dib=eyJ2IjoiMSJ9.BMqckptcHF4LLbo4tzKK3bTP5G7h2cQxulK8UvvfM9wRD0N_v05nfvgwc5w7wlON-8X5B-RDAynfbGNaQb5_eU50dPwIud1RVdFJ67xqiV3EptAA2JxyTp4tRDlC5bQjdWwsSS-2sMCM1n4IzIrlLtLVQ7KGyCWBbaXUUqcOqfHkSdumouqfDxqhN3ZTxDC_IRLPABLjr1ZMRA6h2KEPmuAfFIzMHXQ0YurYWUI2PAlOzu2rYgJv_wRNxQDjig2eEf4ZuFaVmqK3G48jCf570Cpj5n_RdAjoS4brSrjLD14.qqkJEDN34XMDpol-b6w-6OQO4ENxNI7_eHiDiBfvdnw&dib_tag=se&keywords=humidifier&qid=1729084715&sprefix=humidifier%2Caps%2C106&sr=8-5&th=1\"\n",
    "\n",
    "headers = { \"User-Agent\": \"Mozilla/5.0 (Macintosh; Intel Mac OS X 10_15_7) AppleWebKit/537.36 (KHTML, like Gecko) Chrome/129.0.0.0 Safari/537.36\", \"Accept-Encoding\":\"gzip, deflate\", \"Accept\":\"text/html,application/xhtml+xml,application/xml;q=0.9,*/*;q=0.8\", \"DNT\":\"1\",\"Connection\":\"close\", \"Upgrade-Insecure-Requests\":\"1\"}\n",
    "\n",
    "page = requests.get(url, headers = headers)\n",
    "\n",
    "soup1 = BeautifulSoup(page.content, 'html.parser')\n",
    "\n",
    "soup2 = BeautifulSoup(soup1.prettify(),'html.parser')\n",
    "\n",
    "title = soup2.find(id = 'productTitle').get_text()"
   ]
  },
  {
   "cell_type": "code",
   "execution_count": 3,
   "id": "892f847c-a084-4ffb-befa-34a5e03329d6",
   "metadata": {},
   "outputs": [
    {
     "name": "stdout",
     "output_type": "stream",
     "text": [
      "\n",
      "             6L Humidifiers for Bedroom Large Room Home, CHIVALZ Cool Mist Top Fill Humidifier for Baby Nursery and Plants, 26dB Quiet, Nightlight, 50H Runtime, Oil Diffuser, 360° Nozzle Anti-dry Burn White\n",
      "            \n"
     ]
    }
   ],
   "source": [
    "print(title)"
   ]
  },
  {
   "cell_type": "code",
   "execution_count": 4,
   "id": "146be1c4-7009-40ac-87b1-e9ecfdf35354",
   "metadata": {},
   "outputs": [],
   "source": [
    "price = soup2.find_all(class_=\"a-offscreen\")[0].get_text()"
   ]
  },
  {
   "cell_type": "code",
   "execution_count": 5,
   "id": "6daa7285-00ca-4ba9-a051-037b55960885",
   "metadata": {},
   "outputs": [
    {
     "name": "stdout",
     "output_type": "stream",
     "text": [
      "\n",
      "                               $55.99\n",
      "                              \n"
     ]
    }
   ],
   "source": [
    "print(price)"
   ]
  },
  {
   "cell_type": "code",
   "execution_count": 6,
   "id": "bc51dc21-7eac-40ac-b69b-0f872c0705fa",
   "metadata": {},
   "outputs": [
    {
     "name": "stdout",
     "output_type": "stream",
     "text": [
      "2024-10-16 10:44:33.799146\n"
     ]
    }
   ],
   "source": [
    "# time\n",
    "today = datetime.datetime.now()\n",
    "print(today)"
   ]
  },
  {
   "cell_type": "code",
   "execution_count": 7,
   "id": "c17187c6-2059-4cd0-9cf8-50fb9af30bd4",
   "metadata": {},
   "outputs": [],
   "source": [
    "# cleaning title and price\n",
    "title = title.strip()\n",
    "price = price.strip().strip('$')"
   ]
  },
  {
   "cell_type": "code",
   "execution_count": 8,
   "id": "78728611-ef97-4339-8455-427408764869",
   "metadata": {},
   "outputs": [],
   "source": [
    "#  creating a file and adding header and initial data\n",
    "header = [\"Title\",\"Price\",\"Date\"]\n",
    "\n",
    "data = [title, price, today]\n",
    "\n",
    "with open('HumidifierScrapperData.csv','w',newline='',encoding='UTF8') as f:\n",
    "    writer = csv.writer(f)\n",
    "    writer.writerow(header)\n",
    "    writer.writerow(data)\n"
   ]
  },
  {
   "cell_type": "code",
   "execution_count": 9,
   "id": "bda06b24-54d9-4e21-965a-78554a237541",
   "metadata": {},
   "outputs": [
    {
     "data": {
      "text/html": [
       "<div>\n",
       "<style scoped>\n",
       "    .dataframe tbody tr th:only-of-type {\n",
       "        vertical-align: middle;\n",
       "    }\n",
       "\n",
       "    .dataframe tbody tr th {\n",
       "        vertical-align: top;\n",
       "    }\n",
       "\n",
       "    .dataframe thead th {\n",
       "        text-align: right;\n",
       "    }\n",
       "</style>\n",
       "<table border=\"1\" class=\"dataframe\">\n",
       "  <thead>\n",
       "    <tr style=\"text-align: right;\">\n",
       "      <th></th>\n",
       "      <th>Title</th>\n",
       "      <th>Price</th>\n",
       "      <th>Date</th>\n",
       "    </tr>\n",
       "  </thead>\n",
       "  <tbody>\n",
       "    <tr>\n",
       "      <th>0</th>\n",
       "      <td>6L Humidifiers for Bedroom Large Room Home, CH...</td>\n",
       "      <td>55.99</td>\n",
       "      <td>2024-10-16 10:44:33.799146</td>\n",
       "    </tr>\n",
       "  </tbody>\n",
       "</table>\n",
       "</div>"
      ],
      "text/plain": [
       "                                               Title  Price  \\\n",
       "0  6L Humidifiers for Bedroom Large Room Home, CH...  55.99   \n",
       "\n",
       "                         Date  \n",
       "0  2024-10-16 10:44:33.799146  "
      ]
     },
     "execution_count": 9,
     "metadata": {},
     "output_type": "execute_result"
    }
   ],
   "source": [
    "pd.read_csv('HumidifierScrapperData.csv')"
   ]
  },
  {
   "cell_type": "code",
   "execution_count": 10,
   "id": "8f809b94-ac51-4c01-bbe9-7509d65eb2ea",
   "metadata": {},
   "outputs": [],
   "source": [
    "# sending mail as an alert to buy\n",
    "def send_mail():\n",
    "    server = smtplib.SMTP_SSL('smtp.gmail.com',465)\n",
    "    server.ehlo()\n",
    "    #server.starttls()\n",
    "    server.ehlo()\n",
    "    server.login('vananikhushal2001@abc.com','xxxxxxxxxxxxxxxx')\n",
    "\n",
    "    subject = \"Humidifier price is low!!! You should buy it.\"\n",
    "\n",
    "    body = \"Dear Khushal,\\nHumdifier price is below 40$ You should buy it. Check it out on Amazon. Do not reply to this mail.\\nBest Regards,\\nYourself\"\n",
    "\n",
    "    msg = f\"Subject: {subject}\\n\\n{body}\"\n",
    "\n",
    "    server.send_mail('vananikhushal2001@gmail.com','vananikhushal@gmail.com')"
   ]
  },
  {
   "cell_type": "code",
   "execution_count": 11,
   "id": "a0c32c77-1175-4b4f-aa5c-f9ccad765f35",
   "metadata": {},
   "outputs": [],
   "source": [
    "# checking the price (whole code encapsulated in a function)\n",
    "def check_price():\n",
    "    # Connecting to the website\n",
    "    url = \"https://www.amazon.ca/Humidifiers-CHIVALZ-Humidifier-Nightlight-Diffuser/dp/B0CYT6GBZ4/ref=sr_1_5?crid=8KR4AB5GWY6M&dib=eyJ2IjoiMSJ9.BMqckptcHF4LLbo4tzKK3bTP5G7h2cQxulK8UvvfM9wRD0N_v05nfvgwc5w7wlON-8X5B-RDAynfbGNaQb5_eU50dPwIud1RVdFJ67xqiV3EptAA2JxyTp4tRDlC5bQjdWwsSS-2sMCM1n4IzIrlLtLVQ7KGyCWBbaXUUqcOqfHkSdumouqfDxqhN3ZTxDC_IRLPABLjr1ZMRA6h2KEPmuAfFIzMHXQ0YurYWUI2PAlOzu2rYgJv_wRNxQDjig2eEf4ZuFaVmqK3G48jCf570Cpj5n_RdAjoS4brSrjLD14.qqkJEDN34XMDpol-b6w-6OQO4ENxNI7_eHiDiBfvdnw&dib_tag=se&keywords=humidifier&qid=1729084715&sprefix=humidifier%2Caps%2C106&sr=8-5&th=1\"\n",
    "\n",
    "    headers = { \"User-Agent\": \"Mozilla/5.0 (Macintosh; Intel Mac OS X 10_15_7) AppleWebKit/537.36 (KHTML, like Gecko) Chrome/129.0.0.0 Safari/537.36\", \"Accept-Encoding\":\"gzip, deflate\", \"Accept\":\"text/html,application/xhtml+xml,application/xml;q=0.9,*/*;q=0.8\", \"DNT\":\"1\",\"Connection\":\"close\", \"Upgrade-Insecure-Requests\":\"1\"}\n",
    "\n",
    "    page = requests.get(url, headers = headers)\n",
    "\n",
    "    soup1 = BeautifulSoup(page.content, 'html.parser')\n",
    "\n",
    "    soup2 = BeautifulSoup(soup1.prettify(),'html.parser')\n",
    "\n",
    "    title = soup2.find(id = 'productTitle').get_text()\n",
    "\n",
    "    price = soup2.find_all(class_=\"a-offscreen\")[0].get_text()\n",
    "\n",
    "    today = datetime.datetime.now()\n",
    "\n",
    "    title = title.strip()\n",
    "    \n",
    "    price = price.strip().strip('$')\n",
    "\n",
    "    header = [\"Title\",\"Price\",\"Date\"]\n",
    "\n",
    "    data = [title, price, today]\n",
    "\n",
    "    with open('HumidifierScrapperData.csv','a+',newline='',encoding='UTF8') as f:\n",
    "        writer = csv.writer(f)\n",
    "        writer.writerow(data)\n",
    "\n",
    "    if(float(price) < 40):\n",
    "        send_mail()"
   ]
  },
  {
   "cell_type": "code",
   "execution_count": null,
   "id": "0c0250e6-a87b-42ec-af47-66eafbf19cdd",
   "metadata": {},
   "outputs": [],
   "source": [
    "# From certain intervals check the price\n",
    "while(True):\n",
    "    check_price()\n",
    "    time.sleep(3600)"
   ]
  },
  {
   "cell_type": "code",
   "execution_count": null,
   "id": "5cb9bf7c-d55e-41c1-9952-ce06e341d33d",
   "metadata": {},
   "outputs": [],
   "source": []
  },
  {
   "cell_type": "code",
   "execution_count": null,
   "id": "68e2bd9f-a292-40e0-824c-f511bc817c6e",
   "metadata": {},
   "outputs": [],
   "source": []
  }
 ],
 "metadata": {
  "kernelspec": {
   "display_name": "Python 3 (ipykernel)",
   "language": "python",
   "name": "python3"
  },
  "language_info": {
   "codemirror_mode": {
    "name": "ipython",
    "version": 3
   },
   "file_extension": ".py",
   "mimetype": "text/x-python",
   "name": "python",
   "nbconvert_exporter": "python",
   "pygments_lexer": "ipython3",
   "version": "3.11.7"
  }
 },
 "nbformat": 4,
 "nbformat_minor": 5
}
